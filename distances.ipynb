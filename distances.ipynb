{
  "nbformat": 4,
  "nbformat_minor": 0,
  "metadata": {
    "colab": {
      "provenance": [],
      "authorship_tag": "ABX9TyPBnfbxFOehf2xTe5aQEKTB",
      "include_colab_link": true
    },
    "kernelspec": {
      "name": "python3",
      "display_name": "Python 3"
    },
    "language_info": {
      "name": "python"
    }
  },
  "cells": [
    {
      "cell_type": "markdown",
      "metadata": {
        "id": "view-in-github",
        "colab_type": "text"
      },
      "source": [
        "<a href=\"https://colab.research.google.com/github/KBVBrahmarao/datasciencecoursera/blob/main/distances.ipynb\" target=\"_parent\"><img src=\"https://colab.research.google.com/assets/colab-badge.svg\" alt=\"Open In Colab\"/></a>"
      ]
    },
    {
      "cell_type": "code",
      "execution_count": null,
      "metadata": {
        "id": "wAuV2rqbnDhZ"
      },
      "outputs": [],
      "source": [
        "from scipy.spatial import distance"
      ]
    },
    {
      "cell_type": "code",
      "source": [
        "p1 = (0,2)"
      ],
      "metadata": {
        "id": "yMFDUeFsncp1"
      },
      "execution_count": null,
      "outputs": []
    },
    {
      "cell_type": "code",
      "source": [
        "p2 = (2,0)"
      ],
      "metadata": {
        "id": "kUoU5ncHnoBn"
      },
      "execution_count": null,
      "outputs": []
    },
    {
      "cell_type": "code",
      "source": [
        "#The Manhattan distance or the cityblock distance is used to calculate the distance between two coordinates in a grid-like path\n",
        "print(distance.cityblock(p1, p2))"
      ],
      "metadata": {
        "colab": {
          "base_uri": "https://localhost:8080/"
        },
        "id": "Jo_sS1ysnu8T",
        "outputId": "7f5a029b-58a6-473f-8820-de42f140eb12"
      },
      "execution_count": null,
      "outputs": [
        {
          "output_type": "stream",
          "name": "stdout",
          "text": [
            "4\n"
          ]
        }
      ]
    },
    {
      "cell_type": "code",
      "source": [
        "#Euclidean distance is a widely used distance metric. It works on the principle of the Pythagoras theorem and signifies the shortest distance between two points.\n",
        "print(distance.euclidean(p1, p2))"
      ],
      "metadata": {
        "colab": {
          "base_uri": "https://localhost:8080/"
        },
        "id": "aWfIeCpEn_ea",
        "outputId": "55a28b19-4bc1-4ab1-e6a4-396c76b381b0"
      },
      "execution_count": null,
      "outputs": [
        {
          "output_type": "stream",
          "name": "stdout",
          "text": [
            "2.8284271247461903\n"
          ]
        }
      ]
    },
    {
      "cell_type": "markdown",
      "source": [
        "https://www.turing.com/kb/how-to-decide-perfect-distance-metric-for-machine-learning-model\n",
        "p=1 for Manhattan distance\n",
        "p=2 for Euclidean distance\n",
        "p=infinity for Chebyshev distance (Chebyshev distance is the maximum distance along each axis in a given space)"
      ],
      "metadata": {
        "id": "PocO_Cqjs39j"
      }
    },
    {
      "cell_type": "code",
      "source": [
        "#This distance metric is a generalization of the Euclidean and Manhattan distance metrics\n",
        "print(distance.minkowski(p1, p2, p = 1))"
      ],
      "metadata": {
        "colab": {
          "base_uri": "https://localhost:8080/"
        },
        "id": "xuWKNb9eoN6D",
        "outputId": "ac260786-3b06-4185-a490-7f60bebd3264"
      },
      "execution_count": null,
      "outputs": [
        {
          "output_type": "stream",
          "name": "stdout",
          "text": [
            "4.0\n"
          ]
        }
      ]
    },
    {
      "cell_type": "code",
      "source": [
        "print(distance.minkowski(p1, p2, p = 2))"
      ],
      "metadata": {
        "colab": {
          "base_uri": "https://localhost:8080/"
        },
        "id": "5mNPCiacocZk",
        "outputId": "bf711196-e4d1-413e-8a15-714b0236eaaf"
      },
      "execution_count": null,
      "outputs": [
        {
          "output_type": "stream",
          "name": "stdout",
          "text": [
            "2.8284271247461903\n"
          ]
        }
      ]
    },
    {
      "cell_type": "code",
      "source": [],
      "metadata": {
        "id": "O3_qh26noiVx"
      },
      "execution_count": null,
      "outputs": []
    },
    {
      "cell_type": "code",
      "source": [
        "print(distance.minkowski(p1, p2, p = 3))"
      ],
      "metadata": {
        "colab": {
          "base_uri": "https://localhost:8080/"
        },
        "id": "Fj4yE8CRoiXj",
        "outputId": "fb94291f-2fdd-489d-bc14-2192253ec639"
      },
      "execution_count": null,
      "outputs": [
        {
          "output_type": "stream",
          "name": "stdout",
          "text": [
            "2.5198420997897464\n"
          ]
        }
      ]
    },
    {
      "cell_type": "code",
      "source": [
        "#import required libraries\n",
        "import numpy as np\n",
        "from numpy.linalg import norm\n",
        "\n",
        "#define two lists or array\n",
        "A=np.array([2,1,2,3,2,4])\n",
        "B=np.array([3,4,2,4,5,5])\n",
        "\n",
        "print(\"A: \",A)\n",
        "print(\"B: \",B)\n",
        "\n",
        "#compute cosine similarity\n",
        "cosine=np.dot(A,B)/(norm(A)*norm(B))\n",
        "print(\"Cosine Similarity: \",cosine)"
      ],
      "metadata": {
        "colab": {
          "base_uri": "https://localhost:8080/"
        },
        "id": "rxZIhzFCiKMv",
        "outputId": "28bfcb21-1a36-4bff-ab54-70cc25e6f21b"
      },
      "execution_count": 5,
      "outputs": [
        {
          "output_type": "stream",
          "name": "stdout",
          "text": [
            "A:  [2 1 2 3 2 4]\n",
            "B:  [3 4 2 4 5 5]\n",
            "Cosine Similarity:  0.9320397314180487\n"
          ]
        }
      ]
    },
    {
      "cell_type": "markdown",
      "source": [
        "# **Pearson's Correlation**\n",
        "1) **Correlation Matrix:** A table showing the Pearson correlation coefficients between many variables. The values range from -1 to 1, where:\n",
        "\n",
        "a) 1 means a perfect positive linear relationship,\n",
        "b) -1 means a perfect negative linear relationship,\n",
        "c) 0 means no linear relationship.\n",
        "\n",
        "2) Specific Correlation Value: The correlation coefficient between two specific variables, providing a measure of how strongly they are linearly related."
      ],
      "metadata": {
        "id": "8bSFSAh07qtB"
      }
    },
    {
      "cell_type": "code",
      "source": [
        "#Pearson's correlation using the Car-Price dataset in Python\n",
        "\n",
        "import pandas as pd\n",
        "\n",
        "from google.colab import drive\n",
        "drive.mount('/content/drive')\n",
        "\n",
        "# Load the dataset\n",
        "df = pd.read_csv('/content/drive/MyDrive/Car-Price.csv')\n",
        "\n",
        "# Display the first few rows of the dataset\n",
        "print(df.head())\n",
        "\n",
        "# Get basic information about the dataset\n",
        "print(df.info())\n",
        "\n",
        "# Summary statistics\n",
        "print(df.describe())\n",
        "\n",
        "# Select only numeric columns\n",
        "numeric_df = df.select_dtypes(include=[int, float])\n",
        "\n",
        "# Calculate Pearson's correlation matrix\n",
        "correlation_matrix = numeric_df.corr()\n",
        "\n",
        "# Display the correlation matrix\n",
        "print(\"Correlation Matrix:\")\n",
        "print(correlation_matrix)\n",
        "\n",
        "# Calculate the Pearson's correlation between 'price' and 'horsepower'\n",
        "correlation = df['price'].corr(df['horsepower'])\n",
        "\n",
        "print(f\"Pearson's correlation between price and horsepower: {correlation}\")"
      ],
      "metadata": {
        "colab": {
          "base_uri": "https://localhost:8080/"
        },
        "id": "n3cTelgny7LP",
        "outputId": "edd9ab23-2701-4474-d2ab-7f918916477a"
      },
      "execution_count": 15,
      "outputs": [
        {
          "output_type": "stream",
          "name": "stdout",
          "text": [
            "Drive already mounted at /content/drive; to attempt to forcibly remount, call drive.mount(\"/content/drive\", force_remount=True).\n",
            "   car_id         make  price  horsepower  engine_size  curb_weight\n",
            "0       1  alfa-romero  13495         111          130         2548\n",
            "1       2         audi  16500         154          136         2824\n",
            "2       3         audi  13950         102          136         2337\n",
            "3       4          bmw  17450         121          136         2507\n",
            "4       5    chevrolet   5151          48           61         1713\n",
            "<class 'pandas.core.frame.DataFrame'>\n",
            "RangeIndex: 10 entries, 0 to 9\n",
            "Data columns (total 6 columns):\n",
            " #   Column       Non-Null Count  Dtype \n",
            "---  ------       --------------  ----- \n",
            " 0   car_id       10 non-null     int64 \n",
            " 1   make         10 non-null     object\n",
            " 2   price        10 non-null     int64 \n",
            " 3   horsepower   10 non-null     int64 \n",
            " 4   engine_size  10 non-null     int64 \n",
            " 5   curb_weight  10 non-null     int64 \n",
            "dtypes: int64(5), object(1)\n",
            "memory usage: 608.0+ bytes\n",
            "None\n",
            "         car_id         price  horsepower  engine_size  curb_weight\n",
            "count  10.00000     10.000000   10.000000    10.000000     10.00000\n",
            "mean    5.50000  13322.100000  108.200000   126.200000   2407.30000\n",
            "std     3.02765  10930.138084   62.529637    75.976312    685.35993\n",
            "min     1.00000   5151.000000   48.000000    61.000000   1713.00000\n",
            "25%     3.25000   6365.000000   68.500000    82.000000   1923.50000\n",
            "50%     5.50000  10395.000000   90.000000   113.500000   2361.00000\n",
            "75%     7.75000  15862.500000  118.500000   136.000000   2537.75000\n",
            "max    10.00000  41315.000000  262.000000   326.000000   4066.00000\n",
            "Correlation Matrix:\n",
            "               car_id     price  horsepower  engine_size  curb_weight\n",
            "car_id       1.000000  0.055079    0.034040     0.124139     0.045113\n",
            "price        0.055079  1.000000    0.981184     0.984639     0.960937\n",
            "horsepower   0.034040  0.981184    1.000000     0.965167     0.983403\n",
            "engine_size  0.124139  0.984639    0.965167     1.000000     0.936385\n",
            "curb_weight  0.045113  0.960937    0.983403     0.936385     1.000000\n",
            "Pearson's correlation between price and horsepower: 0.9811843408959179\n"
          ]
        }
      ]
    },
    {
      "cell_type": "markdown",
      "source": [],
      "metadata": {
        "id": "toMxY9Mf7qp4"
      }
    }
  ]
}